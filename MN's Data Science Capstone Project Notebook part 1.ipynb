{
    "nbformat_minor": 1, 
    "cells": [
        {
            "source": "# Using Data Science to Find the Ideal Monmouth County, New Jersey Town for a New Gastropub ", 
            "cell_type": "markdown", 
            "metadata": {
                "collapsed": true
            }
        }, 
        {
            "source": "## Introduction/Business Problem", 
            "cell_type": "markdown", 
            "metadata": {}
        }, 
        {
            "source": "### A description of the problem and a discussion of the background. ", 
            "cell_type": "markdown", 
            "metadata": {}
        }, 
        {
            "source": "According to Wikipedia, the term \u201cgastropub\u201d was coined in 1991 when two people bought a traditional English pub and changed the focus from serving drinks to serving food. In the last twenty years, the popularity of gastropubs has increased and continues to do so.", 
            "cell_type": "markdown", 
            "metadata": {}
        }, 
        {
            "source": "Successful restauranteur Joe Strummer wants to open a British style, punk music themed, gastropub somewhere in Monmouth County, New Jersey. Monmouth County is the northernmost county along the Atlantic shoreline in New Jersey. It is ranked among the highest-income areas in the United States, and is home of the uber hip town of Asbury Park. Mr. Strummer will choose a densely populated area with plenty of venues nearby (music, nightlife, etc.), but with no or few similar establishments--maximizing draw, while minimizing competition. He has commissioned me to use to use data science to determine the ideal Monmouth County town for this new business endeavor.", 
            "cell_type": "markdown", 
            "metadata": {}
        }, 
        {
            "source": "### A description of the data and how it will be used to solve the problem. ", 
            "cell_type": "markdown", 
            "metadata": {}
        }, 
        {
            "source": "To solve this problem, I will use the Foursquare API to leverage location data to a.) explore Hudson County, and b.) explore trending venues around dinner time. I will then use the k-means clustering model to segment and cluster the foursquare location data. This data science technique will help us determine the most ideal location for this new business.", 
            "cell_type": "markdown", 
            "metadata": {}
        }, 
        {
            "source": "##### Data", 
            "cell_type": "markdown", 
            "metadata": {}
        }, 
        {
            "source": "The dataset I will use is called \u201cNew Jersey Municipalities.\u201d This represents municipal boundaries in New Jersey, including latitude and longitude coordinates. This dataset is downloadable from the New Jersey Geographic Information Network (NJGIN) Open Data Site: http://njogis-newjersey.opendata.arcgis.com/datasets/3d5d1db8a1b34b418c331f4ce1fd0fef_2/data. Throughout this exercise, I will refer to municipalities as towns.", 
            "cell_type": "markdown", 
            "metadata": {}
        }, 
        {
            "source": "##### Methodology", 
            "cell_type": "markdown", 
            "metadata": {}
        }, 
        {
            "source": "I will first download and explore the \u201cNew Jersey Municipalities\u201d dataset, transform the data into a python pandas dataframe, and simplify the dataframe by including only Monmouth County towns and removing unneeded columns. I will then use the python folium library to create a map with the Monmouth County towns superimposed on top.", 
            "cell_type": "markdown", 
            "metadata": {}
        }, 
        {
            "source": "Using the Foursquare API, I will explore the towns listed in the dataframe. I will retrieve the top 100 venues in each town within a radius of 500 meters (about one third of a mile). I will group the towns to determine the frequency of venue categories in each, and create a new pandas dataframe displaying the top 20 most common venues in each town.", 
            "cell_type": "markdown", 
            "metadata": {}
        }, 
        {
            "source": "In the next step, I will use the k-means clustering algorithm to group the towns into five clusters. I will then create a new dataframe that includes the cluster and the top 20 venues for each town. I will again use folium to visualize the resulting clusters on a map.", 
            "cell_type": "markdown", 
            "metadata": {}
        }, 
        {
            "source": "Finally, I will examine each cluster and determine the top three towns for Joe Strummer\u2019s new gastropub, based on the number and types of venues in each town.", 
            "cell_type": "markdown", 
            "metadata": {}
        }, 
        {
            "source": "", 
            "cell_type": "code", 
            "metadata": {}, 
            "outputs": [], 
            "execution_count": null
        }
    ], 
    "metadata": {
        "kernelspec": {
            "display_name": "Python 3.5", 
            "name": "python3", 
            "language": "python"
        }, 
        "language_info": {
            "mimetype": "text/x-python", 
            "nbconvert_exporter": "python", 
            "version": "3.5.5", 
            "name": "python", 
            "file_extension": ".py", 
            "pygments_lexer": "ipython3", 
            "codemirror_mode": {
                "version": 3, 
                "name": "ipython"
            }
        }
    }, 
    "nbformat": 4
}